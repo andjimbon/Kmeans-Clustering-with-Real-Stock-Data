{
  "nbformat": 4,
  "nbformat_minor": 0,
  "metadata": {
    "colab": {
      "name": "K-Means Clustering with Real Stock Data.ipynb",
      "provenance": [],
      "collapsed_sections": [],
      "toc_visible": true,
      "authorship_tag": "ABX9TyMd51eds9ri8VCcgPhaYV9b"
    },
    "kernelspec": {
      "name": "python3",
      "display_name": "Python 3"
    }
  },
  "cells": [
    {
      "cell_type": "markdown",
      "metadata": {
        "id": "1O49td3I7V9w",
        "colab_type": "text"
      },
      "source": [
        "# by Andy Jiménez"
      ]
    },
    {
      "cell_type": "markdown",
      "metadata": {
        "id": "TGFfnq2d9GhD",
        "colab_type": "text"
      },
      "source": [
        "## Imports"
      ]
    },
    {
      "cell_type": "code",
      "metadata": {
        "id": "bPVdlj5v80S8",
        "colab_type": "code",
        "colab": {}
      },
      "source": [
        "import numpy as np\n",
        "from numpy.random import rand\n",
        "from numpy import vstack,array\n",
        "from pandas_datareader import data as web\n",
        "import pandas as pd\n",
        "from pylab import plot,show\n",
        "from matplotlib import pyplot as plt\n",
        "from sklearn.cluster import KMeans\n",
        "from scipy.cluster.vq import kmeans,vq\n",
        "from scipy import stats\n",
        "import seaborn as sns\n",
        "\n",
        "sns.set(style=\"whitegrid\")"
      ],
      "execution_count": 0,
      "outputs": []
    },
    {
      "cell_type": "markdown",
      "metadata": {
        "id": "NBm9lMtS--E1",
        "colab_type": "text"
      },
      "source": [
        "## Stock Index"
      ]
    },
    {
      "cell_type": "code",
      "metadata": {
        "id": "wZ-vxPyM9xX8",
        "colab_type": "code",
        "colab": {}
      },
      "source": [
        "sp500_wiki = 'https://en.wikipedia.org/wiki/List_of_S%26P_500_companies'\n",
        "\n",
        "sp = pd.read_html(sp500_wiki)\n",
        "sp = sp[0]['Symbol'].tolist()\n",
        "print('No. Stocks: ',len(sp))"
      ],
      "execution_count": 0,
      "outputs": []
    },
    {
      "cell_type": "markdown",
      "metadata": {
        "id": "taMeS1XLx2IB",
        "colab_type": "text"
      },
      "source": [
        "## Historical Data"
      ]
    },
    {
      "cell_type": "code",
      "metadata": {
        "id": "zrSO-UMAAj2O",
        "colab_type": "code",
        "colab": {}
      },
      "source": [
        "# Get historical Data for each stock of SP500\n",
        "\n",
        "sp500_stocks = []\n",
        "for stock in sp:\n",
        "    try:\n",
        "        close_prices = web.DataReader(stock,'yahoo','01/01/2019')['Adj Close']\n",
        "        close_prices = pd.DataFrame(close_prices)\n",
        "        close_prices.columns = [stock]\n",
        "        sp500_stocks.append(close_prices)\n",
        "    except:\n",
        "        pass\n",
        "    df = pd.concat(sp500_stocks,axis=1)\n",
        "    df.sort_index(inplace=True)\n",
        "\n",
        "df.head(2)"
      ],
      "execution_count": 0,
      "outputs": []
    },
    {
      "cell_type": "code",
      "metadata": {
        "id": "OdqAgn30NFcM",
        "colab_type": "code",
        "colab": {}
      },
      "source": [
        "# Annualized Returns and Volatilities\n",
        "ret = df.pct_change().mean()* 252\n",
        "ret = pd.DataFrame(ret)\n",
        "ret.columns = ['Returns']\n",
        "ret['Volatility'] = df.pct_change().std() * np.sqrt(252)\n",
        "\n",
        "ret.tail(2)"
      ],
      "execution_count": 0,
      "outputs": []
    },
    {
      "cell_type": "code",
      "metadata": {
        "id": "DFmanFH9PlQg",
        "colab_type": "code",
        "colab": {}
      },
      "source": [
        "data = np.asarray([np.asarray(ret['Returns']),np.asarray(ret['Volatility'])]).T\n",
        "data"
      ],
      "execution_count": 0,
      "outputs": []
    },
    {
      "cell_type": "markdown",
      "metadata": {
        "id": "HUexieCU1OEZ",
        "colab_type": "text"
      },
      "source": [
        "## Elbow Curve"
      ]
    },
    {
      "cell_type": "code",
      "metadata": {
        "id": "UPuOm3wnQUCE",
        "colab_type": "code",
        "colab": {}
      },
      "source": [
        "# Elbow Curve to Find the Optimal number of clusters\n",
        "\n",
        "x = data\n",
        "distorsions = []\n",
        "for i in range(2, 20):\n",
        "    k_means = KMeans(n_clusters=i)\n",
        "    k_means.fit(x)\n",
        "    distorsions.append(k_means.inertia_)\n",
        "\n",
        "fig = plt.figure(figsize=(10, 6))\n",
        "plt.plot(range(2, 20), distorsions)\n",
        "plt.grid(True)\n",
        "plt.title('Elbow curve', fontsize=16)\n",
        "plt.xlabel('No. Clusters')\n",
        "plt.ylabel('Sum of Square Error within Clusters');"
      ],
      "execution_count": 0,
      "outputs": []
    },
    {
      "cell_type": "markdown",
      "metadata": {
        "id": "_Qadlmyo1Vft",
        "colab_type": "text"
      },
      "source": [
        "## Outliers"
      ]
    },
    {
      "cell_type": "code",
      "metadata": {
        "id": "lYznXDzrPhyR",
        "colab_type": "code",
        "colab": {
          "base_uri": "https://localhost:8080/",
          "height": 136
        },
        "outputId": "f0405260-d360-46a4-d65d-240936216b28"
      },
      "source": [
        "# Identifying Outliers: Z-Score\n",
        "z = np.abs(stats.zscore(ret))\n",
        "print(z)"
      ],
      "execution_count": 0,
      "outputs": [
        {
          "output_type": "stream",
          "text": [
            "[[0.65817816 0.72402003]\n",
            " [0.52325598 0.84873124]\n",
            " [0.112058   0.72101935]\n",
            " ...\n",
            " [0.18318992 0.39605373]\n",
            " [0.91313389 0.58136614]\n",
            " [0.91858052 0.72495043]]\n"
          ],
          "name": "stdout"
        }
      ]
    },
    {
      "cell_type": "code",
      "metadata": {
        "id": "9gfhpsZJPszj",
        "colab_type": "code",
        "colab": {
          "base_uri": "https://localhost:8080/",
          "height": 34
        },
        "outputId": "9229da5c-8223-4cd9-cd19-11487df294b5"
      },
      "source": [
        "# Identifying Z-score values greater than 3 (3σ Approach)\n",
        "print(np.where(z > 3))"
      ],
      "execution_count": 0,
      "outputs": [
        {
          "output_type": "stream",
          "text": [
            "(array([ 21,  46,  88,  88, 158, 238, 349, 360]), array([0, 1, 0, 1, 1, 0, 1, 1]))\n"
          ],
          "name": "stdout"
        }
      ]
    },
    {
      "cell_type": "code",
      "metadata": {
        "id": "hlt52dQ3P_Vm",
        "colab_type": "code",
        "colab": {
          "base_uri": "https://localhost:8080/",
          "height": 68
        },
        "outputId": "ff0b3851-db36-4988-bab6-8336563cf91e"
      },
      "source": [
        "ret.iloc[88]"
      ],
      "execution_count": 0,
      "outputs": [
        {
          "output_type": "execute_result",
          "data": {
            "text/plain": [
              "Returns       3.526023\n",
              "Volatility    1.752382\n",
              "Name: CARR, dtype: float64"
            ]
          },
          "metadata": {
            "tags": []
          },
          "execution_count": 0
        }
      ]
    },
    {
      "cell_type": "code",
      "metadata": {
        "id": "vzdXaVhPzKyY",
        "colab_type": "code",
        "colab": {
          "base_uri": "https://localhost:8080/",
          "height": 34
        },
        "outputId": "0603fe1d-f65f-431a-cf50-c6987ad50061"
      },
      "source": [
        "# Original dataframe\n",
        "ret.shape"
      ],
      "execution_count": 246,
      "outputs": [
        {
          "output_type": "execute_result",
          "data": {
            "text/plain": [
              "(503, 2)"
            ]
          },
          "metadata": {
            "tags": []
          },
          "execution_count": 0
        }
      ]
    },
    {
      "cell_type": "code",
      "metadata": {
        "id": "xkvTf3yxT7Kd",
        "colab_type": "code",
        "colab": {}
      },
      "source": [
        "# Remove Outliers from dataframe\n",
        "ret_outliers = ret[(z<3).all(axis=1)]"
      ],
      "execution_count": 0,
      "outputs": []
    },
    {
      "cell_type": "code",
      "metadata": {
        "id": "7kohIV8dUHjL",
        "colab_type": "code",
        "colab": {
          "base_uri": "https://localhost:8080/",
          "height": 34
        },
        "outputId": "9bdd9118-21c8-4a86-a098-8d4e166755e8"
      },
      "source": [
        "# Afeter removing Outliers\n",
        "ret_outliers.shape"
      ],
      "execution_count": 0,
      "outputs": [
        {
          "output_type": "execute_result",
          "data": {
            "text/plain": [
              "(496, 2)"
            ]
          },
          "metadata": {
            "tags": []
          },
          "execution_count": 0
        }
      ]
    },
    {
      "cell_type": "markdown",
      "metadata": {
        "id": "49qvrSiu1c24",
        "colab_type": "text"
      },
      "source": [
        "## Plotting Clusters"
      ]
    },
    {
      "cell_type": "code",
      "metadata": {
        "id": "BkrPAxkSUjVz",
        "colab_type": "code",
        "colab": {
          "base_uri": "https://localhost:8080/",
          "height": 415
        },
        "outputId": "436b85d3-cfd9-4eb6-debc-fb05960c8f27"
      },
      "source": [
        "# Feed data into the algorithm\n",
        "data = np.asarray([np.asarray(ret_outliers['Returns']),np.asarray(ret_outliers['Volatility'])]).T\n",
        "\n",
        "# computing K-Means with K = 5\n",
        "centroids,_ = kmeans(data,5)\n",
        "# assign each sample to a cluster\n",
        "idx,_ = vq(data,centroids)\n",
        "\n",
        "# some plotting using numpy's logical indexing\n",
        "fig, ax = plt.subplots(figsize=(10,6))\n",
        "ax.plot(data[idx==0,0],data[idx==0,1],'ob', \n",
        "     data[idx==1,0],data[idx==1,1],'oy', \n",
        "     data[idx==2,0],data[idx==2,1],'or', \n",
        "     data[idx==3,0],data[idx==3,1],'og', \n",
        "     data[idx==4,0],data[idx==4,1],'om')\n",
        "ax.plot(centroids[:,0],centroids[:,1],'X',markersize=16, c='black')\n",
        "plt.legend('01234',loc = 'lower left' )\n",
        "plt.xlabel('Return')\n",
        "plt.ylabel('Volatility')\n",
        "plt.title('Clustering Stocks', fontsize=16)\n",
        "show()"
      ],
      "execution_count": 0,
      "outputs": [
        {
          "output_type": "display_data",
          "data": {
            "image/png": "[encoded data removed]",
            "text/plain": [
              "<Figure size 720x432 with 1 Axes>"
            ]
          },
          "metadata": {
            "tags": []
          }
        }
      ]
    },
    {
      "cell_type": "code",
      "metadata": {
        "id": "wXSMhZLDUzcw",
        "colab_type": "code",
        "colab": {
          "base_uri": "https://localhost:8080/",
          "height": 142
        },
        "outputId": "aaa70c20-d318-47ae-d579-61cbd4808694"
      },
      "source": [
        "# Details of which stock is actually in which cluster\n",
        "details = [(ticker,cluster) for ticker, cluster in zip(ret_outliers.index,idx)]\n",
        "\n",
        "clusters = pd.DataFrame(details, columns=['Symbol','Cluster'])\n",
        "clusters.set_index('Symbol').tail(2)"
      ],
      "execution_count": 0,
      "outputs": [
        {
          "output_type": "execute_result",
          "data": {
            "text/html": [
              "<div>\n",
              "<style scoped>\n",
              "    .dataframe tbody tr th:only-of-type {\n",
              "        vertical-align: middle;\n",
              "    }\n",
              "\n",
              "    .dataframe tbody tr th {\n",
              "        vertical-align: top;\n",
              "    }\n",
              "\n",
              "    .dataframe thead th {\n",
              "        text-align: right;\n",
              "    }\n",
              "</style>\n",
              "<table border=\"1\" class=\"dataframe\">\n",
              "  <thead>\n",
              "    <tr style=\"text-align: right;\">\n",
              "      <th></th>\n",
              "      <th>Cluster</th>\n",
              "    </tr>\n",
              "    <tr>\n",
              "      <th>Symbol</th>\n",
              "      <th></th>\n",
              "    </tr>\n",
              "  </thead>\n",
              "  <tbody>\n",
              "    <tr>\n",
              "      <th>ZION</th>\n",
              "      <td>2</td>\n",
              "    </tr>\n",
              "    <tr>\n",
              "      <th>ZTS</th>\n",
              "      <td>4</td>\n",
              "    </tr>\n",
              "  </tbody>\n",
              "</table>\n",
              "</div>"
            ],
            "text/plain": [
              "        Cluster\n",
              "Symbol         \n",
              "ZION          2\n",
              "ZTS           4"
            ]
          },
          "metadata": {
            "tags": []
          },
          "execution_count": 0
        }
      ]
    },
    {
      "cell_type": "code",
      "metadata": {
        "id": "Jwfp1q7NWmAw",
        "colab_type": "code",
        "colab": {
          "base_uri": "https://localhost:8080/",
          "height": 524
        },
        "outputId": "608f3ee0-56b3-4956-b95d-9356eda2df65"
      },
      "source": [
        "# Describing Cluster's Return\n",
        "dfo = ret.merge(clusters,left_index=True, right_on='Symbol')\n",
        "\n",
        "fig,ax = plt.subplots(figsize=(6,8))\n",
        "\n",
        "ax = sns.boxplot(x=\"Cluster\", y=\"Returns\",\n",
        "                 data=dfo, palette=\"Set3\")\n",
        "plt.title(\"Cluster's Return Distribution\", fontsize=16);\n"
      ],
      "execution_count": 0,
      "outputs": [
        {
          "output_type": "display_data",
          "data": {
            "image/png": "[encoded data removed]",
            "text/plain": [
              "<Figure size 432x576 with 1 Axes>"
            ]
          },
          "metadata": {
            "tags": []
          }
        }
      ]
    },
    {
      "cell_type": "code",
      "metadata": {
        "id": "w0QvHtq9N_rZ",
        "colab_type": "code",
        "colab": {}
      },
      "source": [
        ""
      ],
      "execution_count": 0,
      "outputs": []
    },
    {
      "cell_type": "markdown",
      "metadata": {
        "id": "e4rinIrw1tpr",
        "colab_type": "text"
      },
      "source": [
        "## Detecting Outliers in the Returns of Single Stock"
      ]
    },
    {
      "cell_type": "code",
      "metadata": {
        "id": "VSy7NyKy2a2B",
        "colab_type": "code",
        "colab": {
          "base_uri": "https://localhost:8080/",
          "height": 142
        },
        "outputId": "09f7b36e-7d16-44b2-b50a-415e154243ab"
      },
      "source": [
        "df2 = pd.DataFrame(web.DataReader('AAPL','yahoo','01/01/2017')['Adj Close'])\n",
        "\n",
        "window = 21\n",
        "\n",
        "df2['daily_ret'] = df2.pct_change()\n",
        "\n",
        "df_rolling = df2[['daily_ret']].rolling(window=window).agg(['mean', 'std'])\n",
        "df_rolling.columns = df_rolling.columns.droplevel()\n",
        "df_rolling.tail(2)"
      ],
      "execution_count": 0,
      "outputs": [
        {
          "output_type": "execute_result",
          "data": {
            "text/html": [
              "<div>\n",
              "<style scoped>\n",
              "    .dataframe tbody tr th:only-of-type {\n",
              "        vertical-align: middle;\n",
              "    }\n",
              "\n",
              "    .dataframe tbody tr th {\n",
              "        vertical-align: top;\n",
              "    }\n",
              "\n",
              "    .dataframe thead th {\n",
              "        text-align: right;\n",
              "    }\n",
              "</style>\n",
              "<table border=\"1\" class=\"dataframe\">\n",
              "  <thead>\n",
              "    <tr style=\"text-align: right;\">\n",
              "      <th></th>\n",
              "      <th>mean</th>\n",
              "      <th>std</th>\n",
              "    </tr>\n",
              "    <tr>\n",
              "      <th>Date</th>\n",
              "      <th></th>\n",
              "      <th></th>\n",
              "    </tr>\n",
              "  </thead>\n",
              "  <tbody>\n",
              "    <tr>\n",
              "      <th>2020-04-13</th>\n",
              "      <td>0.006123</td>\n",
              "      <td>0.056867</td>\n",
              "    </tr>\n",
              "    <tr>\n",
              "      <th>2020-04-14</th>\n",
              "      <td>0.002823</td>\n",
              "      <td>0.051718</td>\n",
              "    </tr>\n",
              "  </tbody>\n",
              "</table>\n",
              "</div>"
            ],
            "text/plain": [
              "                mean       std\n",
              "Date                          \n",
              "2020-04-13  0.006123  0.056867\n",
              "2020-04-14  0.002823  0.051718"
            ]
          },
          "metadata": {
            "tags": []
          },
          "execution_count": 0
        }
      ]
    },
    {
      "cell_type": "code",
      "metadata": {
        "id": "UeL9Q_vxCxvb",
        "colab_type": "code",
        "colab": {
          "base_uri": "https://localhost:8080/",
          "height": 142
        },
        "outputId": "6450bfe5-31bb-44b6-8a03-9327f89c6cdd"
      },
      "source": [
        "df_outliers = df2.join(df_rolling)\n",
        "df_outliers.rename(columns={'mean':'mean w='+str(window),'std':'std w='+str(window)}, inplace=True)\n",
        "df_outliers.tail(2)"
      ],
      "execution_count": 0,
      "outputs": [
        {
          "output_type": "execute_result",
          "data": {
            "text/html": [
              "<div>\n",
              "<style scoped>\n",
              "    .dataframe tbody tr th:only-of-type {\n",
              "        vertical-align: middle;\n",
              "    }\n",
              "\n",
              "    .dataframe tbody tr th {\n",
              "        vertical-align: top;\n",
              "    }\n",
              "\n",
              "    .dataframe thead th {\n",
              "        text-align: right;\n",
              "    }\n",
              "</style>\n",
              "<table border=\"1\" class=\"dataframe\">\n",
              "  <thead>\n",
              "    <tr style=\"text-align: right;\">\n",
              "      <th></th>\n",
              "      <th>Adj Close</th>\n",
              "      <th>daily_ret</th>\n",
              "      <th>mean w=21</th>\n",
              "      <th>std w=21</th>\n",
              "    </tr>\n",
              "    <tr>\n",
              "      <th>Date</th>\n",
              "      <th></th>\n",
              "      <th></th>\n",
              "      <th></th>\n",
              "      <th></th>\n",
              "    </tr>\n",
              "  </thead>\n",
              "  <tbody>\n",
              "    <tr>\n",
              "      <th>2020-04-13</th>\n",
              "      <td>273.250000</td>\n",
              "      <td>0.019628</td>\n",
              "      <td>0.006123</td>\n",
              "      <td>0.056867</td>\n",
              "    </tr>\n",
              "    <tr>\n",
              "      <th>2020-04-14</th>\n",
              "      <td>287.049988</td>\n",
              "      <td>0.050503</td>\n",
              "      <td>0.002823</td>\n",
              "      <td>0.051718</td>\n",
              "    </tr>\n",
              "  </tbody>\n",
              "</table>\n",
              "</div>"
            ],
            "text/plain": [
              "             Adj Close  daily_ret  mean w=21  std w=21\n",
              "Date                                                  \n",
              "2020-04-13  273.250000   0.019628   0.006123  0.056867\n",
              "2020-04-14  287.049988   0.050503   0.002823  0.051718"
            ]
          },
          "metadata": {
            "tags": []
          },
          "execution_count": 0
        }
      ]
    },
    {
      "cell_type": "code",
      "metadata": {
        "id": "lV7Fs-isDAfF",
        "colab_type": "code",
        "colab": {}
      },
      "source": [
        "# Function to Identify Outliers\n",
        "def identify_outliers(row, n_sigmas=3):\n",
        "  x = row['daily_ret']\n",
        "  mu = row['mean w='+str(window)]\n",
        "  sigma = row['std w='+str(window)]\n",
        "  if (x > mu + 3 * sigma) | (x < mu - 3 * sigma):\n",
        "    return 1\n",
        "  else:\n",
        "    return 0"
      ],
      "execution_count": 0,
      "outputs": []
    },
    {
      "cell_type": "code",
      "metadata": {
        "id": "W5mLwDgQEUGw",
        "colab_type": "code",
        "colab": {}
      },
      "source": [
        "# Apply Function\n",
        "df_outliers['outlier'] = df_outliers.apply(identify_outliers, axis=1)\n",
        "\n",
        "# Identify Outliers and get their daily return\n",
        "outliers = df_outliers.loc[df_outliers['outlier'] == 1,['daily_ret']]"
      ],
      "execution_count": 0,
      "outputs": []
    },
    {
      "cell_type": "code",
      "metadata": {
        "id": "fhlRQiuiE-Gf",
        "colab_type": "code",
        "colab": {
          "base_uri": "https://localhost:8080/",
          "height": 400
        },
        "outputId": "169db901-cbff-4927-8838-9d843a44828b"
      },
      "source": [
        "# Plot Outliers\n",
        "fig, ax = plt.subplots(figsize=(10,6))\n",
        "\n",
        "ax.plot(df_outliers.index,df_outliers.daily_ret,c='b',label='Normal', lw=1)\n",
        "ax.scatter(outliers.index,outliers.daily_ret,c='r',label='Anomaly')\n",
        "ax.set_title(\"Daily stock returns\", fontsize=18)\n",
        "ax.legend(loc='lower left');"
      ],
      "execution_count": 0,
      "outputs": [
        {
          "output_type": "display_data",
          "data": {
            "image/png": "[encoded data removed]",
            "text/plain": [
              "<Figure size 720x432 with 1 Axes>"
            ]
          },
          "metadata": {
            "tags": []
          }
        }
      ]
    },
    {
      "cell_type": "code",
      "metadata": {
        "id": "Z_UYBf5OFjB3",
        "colab_type": "code",
        "colab": {}
      },
      "source": [
        ""
      ],
      "execution_count": 0,
      "outputs": []
    }
  ]
}
